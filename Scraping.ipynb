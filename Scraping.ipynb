{
 "cells": [
  {
   "cell_type": "code",
   "execution_count": 5,
   "metadata": {},
   "outputs": [
    {
     "name": "stdout",
     "output_type": "stream",
     "text": [
      "Collecting bs4\n",
      "  Downloading https://files.pythonhosted.org/packages/10/ed/7e8b97591f6f456174139ec089c769f89a94a1a4025fe967691de971f314/bs4-0.0.1.tar.gz\n",
      "Collecting beautifulsoup4 (from bs4)\n",
      "\u001b[?25l  Downloading https://files.pythonhosted.org/packages/cb/a1/c698cf319e9cfed6b17376281bd0efc6bfc8465698f54170ef60a485ab5d/beautifulsoup4-4.8.2-py3-none-any.whl (106kB)\n",
      "\u001b[K     |████████████████████████████████| 112kB 1.7MB/s eta 0:00:01\n",
      "\u001b[?25hCollecting soupsieve>=1.2 (from beautifulsoup4->bs4)\n",
      "  Downloading https://files.pythonhosted.org/packages/05/cf/ea245e52f55823f19992447b008bcbb7f78efc5960d77f6c34b5b45b36dd/soupsieve-2.0-py2.py3-none-any.whl\n",
      "Building wheels for collected packages: bs4\n",
      "  Building wheel for bs4 (setup.py) ... \u001b[?25ldone\n",
      "\u001b[?25h  Stored in directory: /Users/g188296/Library/Caches/pip/wheels/a0/b0/b2/4f80b9456b87abedbc0bf2d52235414c3467d8889be38dd472\n",
      "Successfully built bs4\n",
      "Installing collected packages: soupsieve, beautifulsoup4, bs4\n",
      "Successfully installed beautifulsoup4-4.8.2 bs4-0.0.1 soupsieve-2.0\n",
      "Note: you may need to restart the kernel to use updated packages.\n"
     ]
    }
   ],
   "source": [
    "pip install bs4"
   ]
  },
  {
   "cell_type": "code",
   "execution_count": 36,
   "metadata": {},
   "outputs": [
    {
     "name": "stdout",
     "output_type": "stream",
     "text": [
      "    PostalCode              Borough                                       Neighborhood\n",
      "0          M3A           North York                                          Parkwoods\n",
      "1          M4A           North York                                   Victoria Village\n",
      "2          M5A     Downtown Toronto                          Regent Park, Harbourfront\n",
      "3          M6A           North York                   Lawrence Manor, Lawrence Heights\n",
      "4          M7A         Queen's Park                      Ontario Provincial Government\n",
      "5          M9A            Etobicoke                                   Islington Avenue\n",
      "6          M1B          Scarborough                                     Malvern, Rouge\n",
      "7          M3B           North York                                          Don Mills\n",
      "8          M4B            East York                    Parkview Hill, Woodbine Gardens\n",
      "9          M5B     Downtown Toronto                           Garden District, Ryerson\n",
      "10         M6B           North York                                         North York\n",
      "11         M9B            Etobicoke  West Deane Park, Princess Gardens, Martin Grov...\n",
      "12         M1C          Scarborough             Rouge Hill, Port Union, Highland Creek\n",
      "13         M3C           North York                         Don Mills, Flemingdon Park\n",
      "14         M4C            East York                                   Woodbine Heights\n",
      "15         M5C     Downtown Toronto                                     St. James Town\n",
      "16         M6C                 York                                 Humewood-Cedarvale\n",
      "17         M9C            Etobicoke                                      Markland Wood\n",
      "18         M1E          Scarborough                  Guildwood, Morningside, West Hill\n",
      "19         M4E          The Beaches                                        The Beaches\n",
      "20         M5E     Downtown Toronto                                   Downtown Toronto\n",
      "21         M6E                 York                                Caledonia-Fairbanks\n",
      "22         M1G          Scarborough                                             Woburn\n",
      "23         M4G            East York                                            Leaside\n",
      "24         M5G     Downtown Toronto                                         Bay Street\n",
      "25         M6G     Downtown Toronto                                   Downtown Toronto\n",
      "26         M1H          Scarborough                                          Cedarbrae\n",
      "27         M2H           North York                                  Hillcrest Village\n",
      "28         M3H           North York          Bathurst Manor, Wilson Heights, Downsview\n",
      "29         M4H            East York                                   Thorncliffe Park\n",
      "30         M5H     Downtown Toronto                                     Richmond, King\n",
      "31         M6H             Dufferin                                 Dovercourt Village\n",
      "32         M1J          Scarborough                                Scarborough Village\n",
      "33         M2J           North York                                         Henry Farm\n",
      "34         M3J           North York                    Northwood Park, York University\n",
      "35         M4J            East York                                       The Danforth\n",
      "36         M5J     Downtown Toronto       Harbourfront, Union Station, Toronto Islands\n",
      "37         M6J      Little Portugal                                            Trinity\n",
      "38         M1K          Scarborough             Kennedy Park, Ionview, Birchmount Park\n",
      "39         M2K           North York                                    Bayview Village\n",
      "40         M3K           North York                             Downsview, CFB Toronto\n",
      "41         M4K         The Danforth                                          Riverdale\n",
      "42         M5K     Downtown Toronto           Toronto Dominion Centre, Design Exchange\n",
      "43         M6K             Brockton                 Parkdale Village, Exhibition Place\n",
      "44         M1L          Scarborough                    Golden Mile, Clairlea, Oakridge\n",
      "45         M2L           North York                                         York Mills\n",
      "46         M3L           North York                                          Downsview\n",
      "47         M4L         India Bazaar                                        The Beaches\n",
      "48         M5L     Downtown Toronto                     Commerce Court, Victoria Hotel\n",
      "49         M6L           North York                                    Maple Leaf Park\n",
      "50         M9L           North York                                      Humber Summit\n",
      "51         M1M          Scarborough         Cliffside, Cliffcrest, Scarborough Village\n",
      "52         M2M           North York                                        Newtonbrook\n",
      "53         M3M           North York                                          Downsview\n",
      "54         M5M           North York                       Bedford Park, Lawrence Manor\n",
      "55         M6M                 York            Mount Dennis, Keelsdale and Silverthorn\n",
      "56         M9M           North York                                   Humberlea, Emery\n",
      "57         M1N          Scarborough                             Birch Cliff, Cliffside\n",
      "58         M2N           North York                                         Willowdale\n",
      "59         M3N           North York                                          Downsview\n",
      "60         M4N        Lawrence Park                                      Lawrence Park\n",
      "61         M6N                 York                            Runnymede, The Junction\n",
      "62         M9N                 York                                             Weston\n",
      "63         M1P          Scarborough  Dorset Park, Wexford Heights, Scarborough Town...\n",
      "64         M2P           North York                                         York Mills\n",
      "65         M4P           Davisville                                         Davisville\n",
      "66         M5P          Forest Hill                                        Forest Hill\n",
      "67         M6P            High Park                                       The Junction\n",
      "68         M9P            Etobicoke                                          Etobicoke\n",
      "69         M1R          Scarborough                                  Wexford, Maryvale\n",
      "70         M2R           North York                                         Willowdale\n",
      "71         M4R        North Toronto                                      North Toronto\n",
      "72         M5R            The Annex                           North Midtown, Yorkville\n",
      "73         M6R             Parkdale                                       Roncesvalles\n",
      "74         M7R          Mississauga                                        Mississauga\n",
      "75         M9R            Etobicoke                                  Kingsview Village\n",
      "76         M1S          Scarborough                                          Agincourt\n",
      "77         M4S           Davisville                                         Davisville\n",
      "78         M5S     Downtown Toronto                              University of Toronto\n",
      "79         M6S            Runnymede                                            Swansea\n",
      "80         M1T          Scarborough                            Tam O'Shanter, Sullivan\n",
      "81         M4T           Moore Park                                         Summerhill\n",
      "82         M5T     Downtown Toronto          Kensington Market, Chinatown, Grange Park\n",
      "83         M1V          Scarborough     Milliken, Agincourt North, Steeles, L'Amoreaux\n",
      "84         M4V           Summerhill      Rathnelly, South Hill, Forest Hill, Deer Park\n",
      "85         M5V     Downtown Toronto  CN Tower, King and Spadina, Railway Lands, Har...\n",
      "86         M8V            Etobicoke                                New Toronto, Mimico\n",
      "87         M9V            Etobicoke  South Steeles, Silverstone, Jamestown, Mount O...\n",
      "88         M1W          Scarborough                                Steeles, L'Amoreaux\n",
      "89         M4W     Downtown Toronto                                           Rosedale\n",
      "90         M5W     Downtown Toronto                                   Downtown Toronto\n",
      "91         M8W            Etobicoke                             Alderwood, Long Branch\n",
      "92         M9W            Etobicoke  Clairville, Humberwood, Woodbine Downs, Rexdal...\n",
      "93         M1X          Scarborough                                        Upper Rouge\n",
      "94         M4X     Downtown Toronto                        St. James Town, Cabbagetown\n",
      "95         M5X     Downtown Toronto             First Canadian Place, Underground city\n",
      "96         M8X            Etobicoke                             The Kingsway, Old Mill\n",
      "97         M4Y     Downtown Toronto                               Church and Wellesley\n",
      "98         M7Y  Business reply mail                                Business reply mail\n",
      "99         M8Y            Etobicoke  Old Mill, Sunnylea, Humber Bay, Mimico, The Qu...\n",
      "100        M8Z            Etobicoke                              Mimico, The Queensway\n"
     ]
    }
   ],
   "source": [
    "import requests\n",
    "from bs4 import BeautifulSoup\n",
    "import pandas as pd\n",
    "\n",
    "page = requests.get(\"https://en.wikipedia.org/wiki/List_of_postal_codes_of_Canada:_M\")\n",
    "soup = BeautifulSoup(page.content, 'html.parser')\n",
    "\n",
    "df = pd.DataFrame(columns = [\"PostalCode\",\"Borough\",\"Neighborhood\"])\n",
    "\n",
    "for cell in soup.find(\"table\").find_all(\"p\"):\n",
    "    postalCode = cell.find(\"b\").get_text()\n",
    "    borough = \"\"\n",
    "    neighborhood = \"\"\n",
    "    counter = 0\n",
    "    for link in cell.find_all(\"a\"):\n",
    "        if counter == 0:\n",
    "            borough = link.get_text()\n",
    "        else:\n",
    "            if neighborhood == \"\":\n",
    "                neighborhood = link.get_text()\n",
    "            else:\n",
    "                neighborhood = neighborhood + \", \" + link.get_text()\n",
    "        counter += 1\n",
    "    \n",
    "    if borough != \"\":\n",
    "        if neighborhood == \"\":\n",
    "            neighborhood = borough\n",
    "        df = df.append({'PostalCode': postalCode, 'Borough': borough, 'Neighborhood': neighborhood}, ignore_index=True)\n",
    "\n",
    "print(df.to_string())\n",
    "    "
   ]
  },
  {
   "cell_type": "code",
   "execution_count": 39,
   "metadata": {},
   "outputs": [
    {
     "name": "stdout",
     "output_type": "stream",
     "text": [
      "(101, 3)\n"
     ]
    }
   ],
   "source": [
    "print(df.shape)"
   ]
  },
  {
   "cell_type": "code",
   "execution_count": null,
   "metadata": {},
   "outputs": [],
   "source": []
  }
 ],
 "metadata": {
  "kernelspec": {
   "display_name": "Python 3",
   "language": "python",
   "name": "python3"
  },
  "language_info": {
   "codemirror_mode": {
    "name": "ipython",
    "version": 3
   },
   "file_extension": ".py",
   "mimetype": "text/x-python",
   "name": "python",
   "nbconvert_exporter": "python",
   "pygments_lexer": "ipython3",
   "version": "3.7.4"
  }
 },
 "nbformat": 4,
 "nbformat_minor": 4
}
