{
 "cells": [
  {
   "cell_type": "code",
   "execution_count": 18,
   "metadata": {},
   "outputs": [
    {
     "name": "stdout",
     "output_type": "stream",
     "text": [
      "Requirement already satisfied: bs4 in /usr/local/lib/python3.7/site-packages (0.0.1)\n",
      "Requirement already satisfied: beautifulsoup4 in /usr/local/lib/python3.7/site-packages (from bs4) (4.8.2)\n",
      "Requirement already satisfied: soupsieve>=1.2 in /usr/local/lib/python3.7/site-packages (from beautifulsoup4->bs4) (2.0)\n",
      "Note: you may need to restart the kernel to use updated packages.\n"
     ]
    }
   ],
   "source": [
    "pip install bs4"
   ]
  },
  {
   "cell_type": "code",
   "execution_count": 19,
   "metadata": {},
   "outputs": [],
   "source": [
    "import requests\n",
    "from bs4 import BeautifulSoup\n",
    "import pandas as pd\n",
    "\n",
    "page = requests.get(\"https://en.wikipedia.org/wiki/List_of_postal_codes_of_Canada:_M\")\n",
    "soup = BeautifulSoup(page.content, 'html.parser')\n",
    "\n",
    "df = pd.DataFrame(columns = [\"PostalCode\",\"Borough\",\"Neighborhood\"])\n",
    "\n",
    "for cell in soup.find(\"table\").find_all(\"p\"):\n",
    "    postalCode = cell.find(\"b\").get_text()\n",
    "    borough = \"\"\n",
    "    neighborhood = \"\"\n",
    "    counter = 0\n",
    "    for link in cell.find_all(\"a\"):\n",
    "        if counter == 0:\n",
    "            borough = link.get_text()\n",
    "        else:\n",
    "            if neighborhood == \"\":\n",
    "                neighborhood = link.get_text()\n",
    "            else:\n",
    "                neighborhood = neighborhood + \", \" + link.get_text()\n",
    "        counter += 1\n",
    "    \n",
    "    if borough != \"\":\n",
    "        if neighborhood == \"\":\n",
    "            neighborhood = borough\n",
    "        df = df.append({'PostalCode': postalCode, 'Borough': borough, 'Neighborhood': neighborhood}, ignore_index=True)"
   ]
  },
  {
   "cell_type": "code",
   "execution_count": 20,
   "metadata": {},
   "outputs": [
    {
     "name": "stdout",
     "output_type": "stream",
     "text": [
      "    PostalCode   Latitude  Longitude\n",
      "0          M1B  43.806686 -79.194353\n",
      "1          M1C  43.784535 -79.160497\n",
      "2          M1E  43.763573 -79.188711\n",
      "3          M1G  43.770992 -79.216917\n",
      "4          M1H  43.773136 -79.239476\n",
      "..         ...        ...        ...\n",
      "98         M9N  43.706876 -79.518188\n",
      "99         M9P  43.696319 -79.532242\n",
      "100        M9R  43.688905 -79.554724\n",
      "101        M9V  43.739416 -79.588437\n",
      "102        M9W  43.706748 -79.594054\n",
      "\n",
      "[103 rows x 3 columns]\n"
     ]
    }
   ],
   "source": [
    "df_coord = pd.read_csv(\"Geospatial_Coordinates.csv\")\n",
    "\n",
    "df_coord = df_coord.rename(columns = {\"Postal Code\" : \"PostalCode\"})\n",
    "\n",
    "print(df_coord)"
   ]
  },
  {
   "cell_type": "code",
   "execution_count": 21,
   "metadata": {},
   "outputs": [
    {
     "name": "stdout",
     "output_type": "stream",
     "text": [
      "    PostalCode              Borough                                       Neighborhood   Latitude  Longitude\n",
      "0          M3A           North York                                          Parkwoods  43.753259 -79.329656\n",
      "1          M4A           North York                                   Victoria Village  43.725882 -79.315572\n",
      "2          M5A     Downtown Toronto                          Regent Park, Harbourfront  43.654260 -79.360636\n",
      "3          M6A           North York                   Lawrence Manor, Lawrence Heights  43.718518 -79.464763\n",
      "4          M7A         Queen's Park                      Ontario Provincial Government  43.662301 -79.389494\n",
      "5          M9A            Etobicoke                                   Islington Avenue  43.667856 -79.532242\n",
      "6          M1B          Scarborough                                     Malvern, Rouge  43.806686 -79.194353\n",
      "7          M3B           North York                                          Don Mills  43.745906 -79.352188\n",
      "8          M4B            East York                    Parkview Hill, Woodbine Gardens  43.706397 -79.309937\n",
      "9          M5B     Downtown Toronto                           Garden District, Ryerson  43.657162 -79.378937\n",
      "10         M6B           North York                                         North York  43.709577 -79.445073\n",
      "11         M9B            Etobicoke  West Deane Park, Princess Gardens, Martin Grov...  43.650943 -79.554724\n",
      "12         M1C          Scarborough             Rouge Hill, Port Union, Highland Creek  43.784535 -79.160497\n",
      "13         M3C           North York                         Don Mills, Flemingdon Park  43.725900 -79.340923\n",
      "14         M4C            East York                                   Woodbine Heights  43.695344 -79.318389\n",
      "15         M5C     Downtown Toronto                                     St. James Town  43.651494 -79.375418\n",
      "16         M6C                 York                                 Humewood-Cedarvale  43.693781 -79.428191\n",
      "17         M9C            Etobicoke                                      Markland Wood  43.643515 -79.577201\n",
      "18         M1E          Scarborough                  Guildwood, Morningside, West Hill  43.763573 -79.188711\n",
      "19         M4E          The Beaches                                        The Beaches  43.676357 -79.293031\n",
      "20         M5E     Downtown Toronto                                   Downtown Toronto  43.644771 -79.373306\n",
      "21         M6E                 York                                Caledonia-Fairbanks  43.689026 -79.453512\n",
      "22         M1G          Scarborough                                             Woburn  43.770992 -79.216917\n",
      "23         M4G            East York                                            Leaside  43.709060 -79.363452\n",
      "24         M5G     Downtown Toronto                                         Bay Street  43.657952 -79.387383\n",
      "25         M6G     Downtown Toronto                                   Downtown Toronto  43.669542 -79.422564\n",
      "26         M1H          Scarborough                                          Cedarbrae  43.773136 -79.239476\n",
      "27         M2H           North York                                  Hillcrest Village  43.803762 -79.363452\n",
      "28         M3H           North York          Bathurst Manor, Wilson Heights, Downsview  43.754328 -79.442259\n",
      "29         M4H            East York                                   Thorncliffe Park  43.705369 -79.349372\n",
      "30         M5H     Downtown Toronto                                     Richmond, King  43.650571 -79.384568\n",
      "31         M6H             Dufferin                                 Dovercourt Village  43.669005 -79.442259\n",
      "32         M1J          Scarborough                                Scarborough Village  43.744734 -79.239476\n",
      "33         M2J           North York                                         Henry Farm  43.778517 -79.346556\n",
      "34         M3J           North York                    Northwood Park, York University  43.767980 -79.487262\n",
      "35         M4J            East York                                       The Danforth  43.685347 -79.338106\n",
      "36         M5J     Downtown Toronto       Harbourfront, Union Station, Toronto Islands  43.640816 -79.381752\n",
      "37         M6J      Little Portugal                                            Trinity  43.647927 -79.419750\n",
      "38         M1K          Scarborough             Kennedy Park, Ionview, Birchmount Park  43.727929 -79.262029\n",
      "39         M2K           North York                                    Bayview Village  43.786947 -79.385975\n",
      "40         M3K           North York                             Downsview, CFB Toronto  43.737473 -79.464763\n",
      "41         M4K         The Danforth                                          Riverdale  43.679557 -79.352188\n",
      "42         M5K     Downtown Toronto           Toronto Dominion Centre, Design Exchange  43.647177 -79.381576\n",
      "43         M6K             Brockton                 Parkdale Village, Exhibition Place  43.636847 -79.428191\n",
      "44         M1L          Scarborough                    Golden Mile, Clairlea, Oakridge  43.711112 -79.284577\n",
      "45         M2L           North York                                         York Mills  43.757490 -79.374714\n",
      "46         M3L           North York                                          Downsview  43.739015 -79.506944\n",
      "47         M4L         India Bazaar                                        The Beaches  43.668999 -79.315572\n",
      "48         M5L     Downtown Toronto                     Commerce Court, Victoria Hotel  43.648198 -79.379817\n",
      "49         M6L           North York                                    Maple Leaf Park  43.713756 -79.490074\n",
      "50         M9L           North York                                      Humber Summit  43.756303 -79.565963\n",
      "51         M1M          Scarborough         Cliffside, Cliffcrest, Scarborough Village  43.716316 -79.239476\n",
      "52         M2M           North York                                        Newtonbrook  43.789053 -79.408493\n",
      "53         M3M           North York                                          Downsview  43.728496 -79.495697\n",
      "54         M5M           North York                       Bedford Park, Lawrence Manor  43.733283 -79.419750\n",
      "55         M6M                 York            Mount Dennis, Keelsdale and Silverthorn  43.691116 -79.476013\n",
      "56         M9M           North York                                   Humberlea, Emery  43.724766 -79.532242\n",
      "57         M1N          Scarborough                             Birch Cliff, Cliffside  43.692657 -79.264848\n",
      "58         M2N           North York                                         Willowdale  43.770120 -79.408493\n",
      "59         M3N           North York                                          Downsview  43.761631 -79.520999\n",
      "60         M4N        Lawrence Park                                      Lawrence Park  43.728020 -79.388790\n",
      "61         M6N                 York                            Runnymede, The Junction  43.673185 -79.487262\n",
      "62         M9N                 York                                             Weston  43.706876 -79.518188\n",
      "63         M1P          Scarborough  Dorset Park, Wexford Heights, Scarborough Town...  43.757410 -79.273304\n",
      "64         M2P           North York                                         York Mills  43.752758 -79.400049\n",
      "65         M4P           Davisville                                         Davisville  43.712751 -79.390197\n",
      "66         M5P          Forest Hill                                        Forest Hill  43.696948 -79.411307\n",
      "67         M6P            High Park                                       The Junction  43.661608 -79.464763\n",
      "68         M9P            Etobicoke                                          Etobicoke  43.696319 -79.532242\n",
      "69         M1R          Scarborough                                  Wexford, Maryvale  43.750072 -79.295849\n",
      "70         M2R           North York                                         Willowdale  43.782736 -79.442259\n",
      "71         M4R        North Toronto                                      North Toronto  43.715383 -79.405678\n",
      "72         M5R            The Annex                           North Midtown, Yorkville  43.672710 -79.405678\n",
      "73         M6R             Parkdale                                       Roncesvalles  43.648960 -79.456325\n",
      "74         M7R          Mississauga                                        Mississauga  43.636966 -79.615819\n",
      "75         M9R            Etobicoke                                  Kingsview Village  43.688905 -79.554724\n",
      "76         M1S          Scarborough                                          Agincourt  43.794200 -79.262029\n",
      "77         M4S           Davisville                                         Davisville  43.704324 -79.388790\n",
      "78         M5S     Downtown Toronto                              University of Toronto  43.662696 -79.400049\n",
      "79         M6S            Runnymede                                            Swansea  43.651571 -79.484450\n",
      "80         M1T          Scarborough                            Tam O'Shanter, Sullivan  43.781638 -79.304302\n",
      "81         M4T           Moore Park                                         Summerhill  43.689574 -79.383160\n",
      "82         M5T     Downtown Toronto          Kensington Market, Chinatown, Grange Park  43.653206 -79.400049\n",
      "83         M1V          Scarborough     Milliken, Agincourt North, Steeles, L'Amoreaux  43.815252 -79.284577\n",
      "84         M4V           Summerhill      Rathnelly, South Hill, Forest Hill, Deer Park  43.686412 -79.400049\n",
      "85         M5V     Downtown Toronto  CN Tower, King and Spadina, Railway Lands, Har...  43.628947 -79.394420\n",
      "86         M8V            Etobicoke                                New Toronto, Mimico  43.605647 -79.501321\n",
      "87         M9V            Etobicoke  South Steeles, Silverstone, Jamestown, Mount O...  43.739416 -79.588437\n",
      "88         M1W          Scarborough                                Steeles, L'Amoreaux  43.799525 -79.318389\n",
      "89         M4W     Downtown Toronto                                           Rosedale  43.679563 -79.377529\n",
      "90         M5W     Downtown Toronto                                   Downtown Toronto  43.646435 -79.374846\n",
      "91         M8W            Etobicoke                             Alderwood, Long Branch  43.602414 -79.543484\n",
      "92         M9W            Etobicoke  Clairville, Humberwood, Woodbine Downs, Rexdal...  43.706748 -79.594054\n",
      "93         M1X          Scarborough                                        Upper Rouge  43.836125 -79.205636\n",
      "94         M4X     Downtown Toronto                        St. James Town, Cabbagetown  43.667967 -79.367675\n",
      "95         M5X     Downtown Toronto             First Canadian Place, Underground city  43.648429 -79.382280\n",
      "96         M8X            Etobicoke                             The Kingsway, Old Mill  43.653654 -79.506944\n",
      "97         M4Y     Downtown Toronto                               Church and Wellesley  43.665860 -79.383160\n",
      "98         M7Y  Business reply mail                                Business reply mail  43.662744 -79.321558\n",
      "99         M8Y            Etobicoke  Old Mill, Sunnylea, Humber Bay, Mimico, The Qu...  43.636258 -79.498509\n",
      "100        M8Z            Etobicoke                              Mimico, The Queensway  43.628841 -79.520999\n"
     ]
    }
   ],
   "source": [
    "df = pd.merge(df, df_coord, on=\"PostalCode\", how=\"left\")\n",
    "\n",
    "print(df.to_string())"
   ]
  },
  {
   "cell_type": "code",
   "execution_count": null,
   "metadata": {},
   "outputs": [],
   "source": []
  }
 ],
 "metadata": {
  "kernelspec": {
   "display_name": "Python 3",
   "language": "python",
   "name": "python3"
  },
  "language_info": {
   "codemirror_mode": {
    "name": "ipython",
    "version": 3
   },
   "file_extension": ".py",
   "mimetype": "text/x-python",
   "name": "python",
   "nbconvert_exporter": "python",
   "pygments_lexer": "ipython3",
   "version": "3.7.4"
  }
 },
 "nbformat": 4,
 "nbformat_minor": 4
}
