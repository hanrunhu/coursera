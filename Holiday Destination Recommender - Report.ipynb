{
 "cells": [
  {
   "cell_type": "markdown",
   "metadata": {},
   "source": [
    "# Holiday Destination Recommender - Report"
   ]
  },
  {
   "cell_type": "markdown",
   "metadata": {},
   "source": [
    "## 1. Introduction"
   ]
  },
  {
   "cell_type": "markdown",
   "metadata": {},
   "source": [
    "I am sure you know this problem very well.\n",
    "\n",
    "You are so ready to go onto your next vacation - only you do not know what destination you should choose. Not so much because you have too much choice and you cannot decide - the issue is rather, you do not actually know what are the destinations that really match your current *mood* for holiday destinations? And is there anything exotic to discover other than all the mainstream places?\n",
    "\n",
    "So here is the idea.\n",
    "\n",
    "A *Holiday Destination Recommender*: You tell the recommender the places you like and that match your current mood & the recommender shows you similar places worth visting - places you might have never come across yourself.\n",
    "Yes, very similar to what you already know from Netflix, Spotify and YouTube.\n",
    "\n",
    "The project is implemented using an unsupervised learning approach and hence does not depend on the availability of labeled training data. Please refer to section **Methodology** for more details on the approach.\n",
    "\n"
   ]
  },
  {
   "cell_type": "markdown",
   "metadata": {},
   "source": [
    "## 2. Data"
   ]
  },
  {
   "cell_type": "markdown",
   "metadata": {},
   "source": [
    "In this section, I present which type of data is needed, where they are retrieved from and how they are processed to implement the Holiday Destination Recommender."
   ]
  },
  {
   "cell_type": "markdown",
   "metadata": {},
   "source": [
    "## 2.1 Data Requirements"
   ]
  },
  {
   "cell_type": "markdown",
   "metadata": {},
   "source": [
    "To implement the Holiday Destination Recommender, the following data is required:\n",
    "- **A list of cities that serve as \"benchmark cities\"**; in this example, we go with the cities \"Barcelona, Spain\" and \"Budapest, Hungary\"\n",
    "- **A list of all cities in the world**: This is needed, so that the recommender can scout new cities to suggest to the user.\n",
    "- **The latitudes and longitudes of those cities**: This is needed, so that places are uniquely identified and more information can be retrieved about them.\n",
    "- **The available venues of those cities**: This is needed, so that the recommender can calculate the similarity between the benchmark cities and possible holiday destinations. First and foremost, the available *venue categories* are of interest, since they form the basis of the comparison."
   ]
  },
  {
   "cell_type": "markdown",
   "metadata": {},
   "source": [
    "## 2.2 Data Sources"
   ]
  },
  {
   "cell_type": "markdown",
   "metadata": {},
   "source": [
    "The following data sources are used to retrieve above mentioned data:\n",
    "- Dataset from https://datahub.io/core/world-cities: Here a CSV is provided that contains all major cities of the world with more than 150000 inhabitants. In total there are more than 20k entries.\n",
    "- Python library *geopy* to request *Nominatim* interface for retrieving the coordinates of cities.\n",
    "- Foursquare Places API to obtain information on the available venues for a city."
   ]
  },
  {
   "cell_type": "markdown",
   "metadata": {},
   "source": [
    "In the following you can find some extracts of the retrieved data:"
   ]
  },
  {
   "cell_type": "markdown",
   "metadata": {},
   "source": [
    "1) Benchmark cities with coordinates and available venues"
   ]
  },
  {
   "cell_type": "markdown",
   "metadata": {},
   "source": [
    "![title](img/Benchmark_Cities.png)"
   ]
  },
  {
   "cell_type": "markdown",
   "metadata": {},
   "source": [
    "2) Destination cities (i.e. possible suggestions by the recommender) with coordinates and available venues"
   ]
  },
  {
   "cell_type": "markdown",
   "metadata": {},
   "source": [
    "![title](img/New_Cities.png)"
   ]
  },
  {
   "cell_type": "code",
   "execution_count": null,
   "metadata": {},
   "outputs": [],
   "source": []
  }
 ],
 "metadata": {
  "kernelspec": {
   "display_name": "Python 3",
   "language": "python",
   "name": "python3"
  },
  "language_info": {
   "codemirror_mode": {
    "name": "ipython",
    "version": 3
   },
   "file_extension": ".py",
   "mimetype": "text/x-python",
   "name": "python",
   "nbconvert_exporter": "python",
   "pygments_lexer": "ipython3",
   "version": "3.7.4"
  }
 },
 "nbformat": 4,
 "nbformat_minor": 4
}
