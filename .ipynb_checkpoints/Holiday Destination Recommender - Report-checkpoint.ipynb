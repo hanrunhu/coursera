{
 "cells": [
  {
   "cell_type": "markdown",
   "metadata": {},
   "source": [
    "# Holiday Destination Recommender - Report"
   ]
  },
  {
   "cell_type": "markdown",
   "metadata": {},
   "source": [
    "## 1. Introduction"
   ]
  },
  {
   "cell_type": "markdown",
   "metadata": {},
   "source": [
    "I am sure you know this problem very well.\n",
    "\n",
    "You are so ready to go onto your next vacation - only you do not know what destination you should choose. Not so much because you have too much choice - but what are the destinations that really match your current *mood* for holiday destinations? And is there anything exotic to discover other than all the mainstream places?\n",
    "\n",
    "So here is the idea.\n",
    "\n",
    "A *Holiday Destination Recommender*: You tell the recommender the places you like and that match your current mood & the recommender shows you similar places worth visting - places you might have never come across yourself.\n",
    "Yes, very similar to what you already know from Netflix, Spotify and YouTube.\n",
    "\n",
    "The project is implemented using an unsupervised learning approach and hence does not depend on the availability of labeled training data. Please refer to section **Methodology** for more details on the approach.\n",
    "\n"
   ]
  },
  {
   "cell_type": "markdown",
   "metadata": {},
   "source": [
    "## 2. Data"
   ]
  },
  {
   "cell_type": "markdown",
   "metadata": {},
   "source": [
    "In this section, I will present which type of data is needed, where they are retrieved from and how they are processed to implement the Holiday Destination Recommender."
   ]
  },
  {
   "cell_type": "markdown",
   "metadata": {},
   "source": [
    "## 2.1"
   ]
  }
 ],
 "metadata": {
  "kernelspec": {
   "display_name": "Python 3",
   "language": "python",
   "name": "python3"
  },
  "language_info": {
   "codemirror_mode": {
    "name": "ipython",
    "version": 3
   },
   "file_extension": ".py",
   "mimetype": "text/x-python",
   "name": "python",
   "nbconvert_exporter": "python",
   "pygments_lexer": "ipython3",
   "version": "3.7.4"
  }
 },
 "nbformat": 4,
 "nbformat_minor": 4
}
