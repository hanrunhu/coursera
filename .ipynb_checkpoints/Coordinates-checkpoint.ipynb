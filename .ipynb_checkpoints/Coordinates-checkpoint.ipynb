{
 "cells": [
  {
   "cell_type": "code",
   "execution_count": 14,
   "metadata": {},
   "outputs": [
    {
     "name": "stdout",
     "output_type": "stream",
     "text": [
      "Requirement already satisfied: bs4 in /usr/local/lib/python3.7/site-packages (0.0.1)\n",
      "Requirement already satisfied: beautifulsoup4 in /usr/local/lib/python3.7/site-packages (from bs4) (4.8.2)\n",
      "Requirement already satisfied: soupsieve>=1.2 in /usr/local/lib/python3.7/site-packages (from beautifulsoup4->bs4) (2.0)\n",
      "Note: you may need to restart the kernel to use updated packages.\n"
     ]
    }
   ],
   "source": [
    "pip install bs4"
   ]
  },
  {
   "cell_type": "code",
   "execution_count": 15,
   "metadata": {},
   "outputs": [],
   "source": [
    "import requests\n",
    "from bs4 import BeautifulSoup\n",
    "import pandas as pd\n",
    "\n",
    "page = requests.get(\"https://en.wikipedia.org/wiki/List_of_postal_codes_of_Canada:_M\")\n",
    "soup = BeautifulSoup(page.content, 'html.parser')\n",
    "\n",
    "df = pd.DataFrame(columns = [\"PostalCode\",\"Borough\",\"Neighborhood\"])\n",
    "\n",
    "for cell in soup.find(\"table\").find_all(\"p\"):\n",
    "    postalCode = cell.find(\"b\").get_text()\n",
    "    borough = \"\"\n",
    "    neighborhood = \"\"\n",
    "    counter = 0\n",
    "    for link in cell.find_all(\"a\"):\n",
    "        if counter == 0:\n",
    "            borough = link.get_text()\n",
    "        else:\n",
    "            if neighborhood == \"\":\n",
    "                neighborhood = link.get_text()\n",
    "            else:\n",
    "                neighborhood = neighborhood + \", \" + link.get_text()\n",
    "        counter += 1\n",
    "    \n",
    "    if borough != \"\":\n",
    "        if neighborhood == \"\":\n",
    "            neighborhood = borough\n",
    "        df = df.append({'PostalCode': postalCode, 'Borough': borough, 'Neighborhood': neighborhood}, ignore_index=True)"
   ]
  },
  {
   "cell_type": "code",
   "execution_count": 16,
   "metadata": {},
   "outputs": [
    {
     "name": "stdout",
     "output_type": "stream",
     "text": [
      "    PostalCode   Latitude  Longitude\n",
      "0          M1B  43.806686 -79.194353\n",
      "1          M1C  43.784535 -79.160497\n",
      "2          M1E  43.763573 -79.188711\n",
      "3          M1G  43.770992 -79.216917\n",
      "4          M1H  43.773136 -79.239476\n",
      "..         ...        ...        ...\n",
      "98         M9N  43.706876 -79.518188\n",
      "99         M9P  43.696319 -79.532242\n",
      "100        M9R  43.688905 -79.554724\n",
      "101        M9V  43.739416 -79.588437\n",
      "102        M9W  43.706748 -79.594054\n",
      "\n",
      "[103 rows x 3 columns]\n"
     ]
    }
   ],
   "source": [
    "df_coord = pd.read_csv(\"Geospatial_Coordinates.csv\")\n",
    "\n",
    "df_coord = df_coord.rename(columns = {\"Postal Code\" : \"PostalCode\"})\n",
    "\n",
    "print(df_coord)"
   ]
  },
  {
   "cell_type": "code",
   "execution_count": 17,
   "metadata": {},
   "outputs": [
    {
     "name": "stdout",
     "output_type": "stream",
     "text": [
      "    PostalCode              Borough  \\\n",
      "0          M3A           North York   \n",
      "1          M4A           North York   \n",
      "2          M5A     Downtown Toronto   \n",
      "3          M6A           North York   \n",
      "4          M7A         Queen's Park   \n",
      "..         ...                  ...   \n",
      "96         M8X            Etobicoke   \n",
      "97         M4Y     Downtown Toronto   \n",
      "98         M7Y  Business reply mail   \n",
      "99         M8Y            Etobicoke   \n",
      "100        M8Z            Etobicoke   \n",
      "\n",
      "                                          Neighborhood   Latitude  Longitude  \n",
      "0                                            Parkwoods  43.753259 -79.329656  \n",
      "1                                     Victoria Village  43.725882 -79.315572  \n",
      "2                            Regent Park, Harbourfront  43.654260 -79.360636  \n",
      "3                     Lawrence Manor, Lawrence Heights  43.718518 -79.464763  \n",
      "4                        Ontario Provincial Government  43.662301 -79.389494  \n",
      "..                                                 ...        ...        ...  \n",
      "96                              The Kingsway, Old Mill  43.653654 -79.506944  \n",
      "97                                Church and Wellesley  43.665860 -79.383160  \n",
      "98                                 Business reply mail  43.662744 -79.321558  \n",
      "99   Old Mill, Sunnylea, Humber Bay, Mimico, The Qu...  43.636258 -79.498509  \n",
      "100                              Mimico, The Queensway  43.628841 -79.520999  \n",
      "\n",
      "[101 rows x 5 columns]\n"
     ]
    }
   ],
   "source": [
    "df = pd.merge(df, df_coord, on=\"PostalCode\", how=\"left\")\n",
    "\n",
    "print(df.to_string())"
   ]
  },
  {
   "cell_type": "code",
   "execution_count": null,
   "metadata": {},
   "outputs": [],
   "source": []
  }
 ],
 "metadata": {
  "kernelspec": {
   "display_name": "Python 3",
   "language": "python",
   "name": "python3"
  },
  "language_info": {
   "codemirror_mode": {
    "name": "ipython",
    "version": 3
   },
   "file_extension": ".py",
   "mimetype": "text/x-python",
   "name": "python",
   "nbconvert_exporter": "python",
   "pygments_lexer": "ipython3",
   "version": "3.7.4"
  }
 },
 "nbformat": 4,
 "nbformat_minor": 4
}
